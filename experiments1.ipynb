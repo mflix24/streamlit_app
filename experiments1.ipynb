{
 "cells": [
  {
   "cell_type": "code",
   "execution_count": null,
   "metadata": {},
   "outputs": [],
   "source": [
    "# ! pip install streamlit"
   ]
  },
  {
   "cell_type": "code",
   "execution_count": 2,
   "metadata": {},
   "outputs": [],
   "source": [
    "# importing libraries\n",
    "import streamlit as st"
   ]
  },
  {
   "cell_type": "code",
   "execution_count": 6,
   "metadata": {},
   "outputs": [],
   "source": [
    "# creating function as create_new_account()\n",
    "def create_new_account():\n",
    "    st.write(\"Creating a new bank account...\")\n",
    "    # Your code to handle creating a new account goes here"
   ]
  },
  {
   "cell_type": "code",
   "execution_count": 5,
   "metadata": {},
   "outputs": [],
   "source": [
    "# # creating function as connect_to_customer_rep()\n",
    "def connect_to_customer_rep():\n",
    "    st.write(\"Connecting to customer representative...\")\n",
    "    # Your code to handle connecting to a customer representative goes here"
   ]
  },
  {
   "cell_type": "code",
   "execution_count": 4,
   "metadata": {},
   "outputs": [],
   "source": [
    "#  creating function as change_password()\n",
    "def change_password():\n",
    "    st.write(\"Changing password...\")\n",
    "    # Your code to handle changing the password goes here"
   ]
  },
  {
   "cell_type": "code",
   "execution_count": 3,
   "metadata": {},
   "outputs": [],
   "source": [
    "# creating function as update_profile()\n",
    "def update_profile():\n",
    "    st.write(\"Updating profile information...\")\n",
    "    # Your code to handle updating profile information goes here"
   ]
  },
  {
   "cell_type": "code",
   "execution_count": 7,
   "metadata": {},
   "outputs": [],
   "source": [
    "# this is the main function where all function thar are declared on above cells \n",
    "# and calling them into the main() function\n",
    "def main():\n",
    "    st.title(\"Bank Chatbot\")\n",
    "\n",
    "    choice = st.selectbox(\"What do you want to do?\", [\"\", \"Create a new account\", \"Connect to customer representative\", \"Change password\", \"Update profile information\"])\n",
    "\n",
    "    if choice == \"Create a new account\":\n",
    "        create_new_account()\n",
    "    elif choice == \"Connect to customer representative\":\n",
    "        connect_to_customer_rep()\n",
    "    elif choice == \"Change password\":\n",
    "        change_password()\n",
    "    elif choice == \"Update profile information\":\n",
    "        update_profile()"
   ]
  },
  {
   "cell_type": "code",
   "execution_count": 8,
   "metadata": {},
   "outputs": [
    {
     "name": "stderr",
     "output_type": "stream",
     "text": [
      "2024-02-27 20:47:54.174 \n",
      "  \u001b[33m\u001b[1mWarning:\u001b[0m to view this Streamlit app on a browser, run it with the following\n",
      "  command:\n",
      "\n",
      "    streamlit run c:\\Users\\mehed\\.conda\\envs\\myenv\\lib\\site-packages\\ipykernel_launcher.py [ARGUMENTS]\n"
     ]
    }
   ],
   "source": [
    "if __name__ == \"__main__\":\n",
    "    main()"
   ]
  },
  {
   "cell_type": "code",
   "execution_count": null,
   "metadata": {},
   "outputs": [],
   "source": []
  },
  {
   "cell_type": "code",
   "execution_count": null,
   "metadata": {},
   "outputs": [],
   "source": []
  },
  {
   "cell_type": "code",
   "execution_count": null,
   "metadata": {},
   "outputs": [],
   "source": []
  },
  {
   "cell_type": "code",
   "execution_count": null,
   "metadata": {},
   "outputs": [],
   "source": []
  }
 ],
 "metadata": {
  "kernelspec": {
   "display_name": "myenv",
   "language": "python",
   "name": "python3"
  },
  "language_info": {
   "codemirror_mode": {
    "name": "ipython",
    "version": 3
   },
   "file_extension": ".py",
   "mimetype": "text/x-python",
   "name": "python",
   "nbconvert_exporter": "python",
   "pygments_lexer": "ipython3",
   "version": "3.10.4"
  }
 },
 "nbformat": 4,
 "nbformat_minor": 2
}
