{
 "cells": [
  {
   "cell_type": "code",
   "execution_count": 1,
   "metadata": {},
   "outputs": [],
   "source": [
    "import streamlit as st\n",
    "import random\n",
    "import string"
   ]
  },
  {
   "cell_type": "code",
   "execution_count": 2,
   "metadata": {},
   "outputs": [],
   "source": [
    "def generate_random_alphanumeric(length):\n",
    "    alphanumeric = string.ascii_letters + string.digits\n",
    "    return ''.join(random.choice(alphanumeric) for _ in range(length))"
   ]
  },
  {
   "cell_type": "code",
   "execution_count": 4,
   "metadata": {},
   "outputs": [],
   "source": [
    "def create_new_account():\n",
    "    st.write(\"Creating a new bank account...\")\n",
    "    random_account_number = generate_random_alphanumeric(12)\n",
    "    st.write(f\"Your new account number is: {random_account_number}\")"
   ]
  },
  {
   "cell_type": "code",
   "execution_count": 5,
   "metadata": {},
   "outputs": [],
   "source": [
    "def connect_to_customer_rep():\n",
    "    st.write(\"Connecting to customer representative...\")\n",
    "    st.write(\"Welcome To The World of AI\")\n"
   ]
  },
  {
   "cell_type": "code",
   "execution_count": 6,
   "metadata": {},
   "outputs": [],
   "source": [
    "def change_password():\n",
    "    st.write(\"Changing password...\")\n",
    "    old_password = \"OldPassword\"\n",
    "    new_password = \"NewPassword\"\n",
    "    st.write(f\"Old password: {old_password}\")\n",
    "    st.write(f\"New password: {new_password}\")\n",
    "    st.write(f\"Repeat new password: {new_password}\")"
   ]
  },
  {
   "cell_type": "code",
   "execution_count": 7,
   "metadata": {},
   "outputs": [],
   "source": [
    "def update_profile():\n",
    "    st.write(\"Updating profile information...\")\n",
    "    name = \"Name\"\n",
    "    phone_number = \"PhoneNo\"\n",
    "    home_address = \"HomeAddress\"\n",
    "    st.write(f\"Name: {name}\")\n",
    "    st.write(f\"Phone Number: {phone_number}\")\n",
    "    st.write(f\"Home Address: {home_address}\")"
   ]
  },
  {
   "cell_type": "code",
   "execution_count": 8,
   "metadata": {},
   "outputs": [],
   "source": [
    "def main():\n",
    "    st.title(\"Bank Chatbot\")\n",
    "\n",
    "    choice = st.selectbox(\"What do you want to do?\", [\"\", \"Create a new account\", \"Connect to customer representative\", \"Change password\", \"Update profile information\"])\n",
    "\n",
    "    if choice == \"Create a new account\":\n",
    "        create_new_account()\n",
    "    elif choice == \"Connect to customer representative\":\n",
    "        connect_to_customer_rep()\n",
    "    elif choice == \"Change password\":\n",
    "        change_password()\n",
    "    elif choice == \"Update profile information\":\n",
    "        update_profile()"
   ]
  },
  {
   "cell_type": "code",
   "execution_count": null,
   "metadata": {},
   "outputs": [],
   "source": [
    "if __name__ == \"__main__\":\n",
    "    main()"
   ]
  }
 ],
 "metadata": {
  "kernelspec": {
   "display_name": "myenv",
   "language": "python",
   "name": "python3"
  },
  "language_info": {
   "codemirror_mode": {
    "name": "ipython",
    "version": 3
   },
   "file_extension": ".py",
   "mimetype": "text/x-python",
   "name": "python",
   "nbconvert_exporter": "python",
   "pygments_lexer": "ipython3",
   "version": "3.10.4"
  }
 },
 "nbformat": 4,
 "nbformat_minor": 2
}
